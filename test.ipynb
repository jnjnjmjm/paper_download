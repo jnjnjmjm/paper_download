{
 "cells": [
  {
   "cell_type": "code",
   "execution_count": 113,
   "metadata": {},
   "outputs": [
    {
     "name": "stderr",
     "output_type": "stream",
     "text": [
      "d:\\enviroment\\conda\\envs\\thesis_download\\lib\\site-packages\\urllib3\\connectionpool.py:1056: InsecureRequestWarning: Unverified HTTPS request is being made to host '127.0.0.1'. Adding certificate verification is strongly advised. See: https://urllib3.readthedocs.io/en/1.26.x/advanced-usage.html#ssl-warnings\n",
      "  warnings.warn(\n"
     ]
    },
    {
     "ename": "AttributeError",
     "evalue": "'NoneType' object has no attribute 'find'",
     "output_type": "error",
     "traceback": [
      "\u001b[1;31m---------------------------------------------------------------------------\u001b[0m",
      "\u001b[1;31mAttributeError\u001b[0m                            Traceback (most recent call last)",
      "\u001b[1;32md:\\project\\thesis_download\\test.ipynb 单元格 1\u001b[0m line \u001b[0;36m3\n\u001b[0;32m     <a href='vscode-notebook-cell:/d%3A/project/thesis_download/test.ipynb#W3sZmlsZQ%3D%3D?line=32'>33</a>\u001b[0m soup \u001b[39m=\u001b[39m BeautifulSoup(res\u001b[39m.\u001b[39mtext,\u001b[39m'\u001b[39m\u001b[39mhtml.parser\u001b[39m\u001b[39m'\u001b[39m)\n\u001b[0;32m     <a href='vscode-notebook-cell:/d%3A/project/thesis_download/test.ipynb#W3sZmlsZQ%3D%3D?line=33'>34</a>\u001b[0m url_item \u001b[39m=\u001b[39m soup\u001b[39m.\u001b[39mfind(\u001b[39m'\u001b[39m\u001b[39mdiv\u001b[39m\u001b[39m'\u001b[39m,class_\u001b[39m=\u001b[39m\u001b[39m\"\u001b[39m\u001b[39mgs_or_ggsm\u001b[39m\u001b[39m\"\u001b[39m)\n\u001b[1;32m---> <a href='vscode-notebook-cell:/d%3A/project/thesis_download/test.ipynb#W3sZmlsZQ%3D%3D?line=34'>35</a>\u001b[0m a_item \u001b[39m=\u001b[39m url_item\u001b[39m.\u001b[39;49mfind(\u001b[39m'\u001b[39m\u001b[39ma\u001b[39m\u001b[39m'\u001b[39m)\n\u001b[0;32m     <a href='vscode-notebook-cell:/d%3A/project/thesis_download/test.ipynb#W3sZmlsZQ%3D%3D?line=36'>37</a>\u001b[0m a_item\u001b[39m.\u001b[39mget(\u001b[39m'\u001b[39m\u001b[39mhref\u001b[39m\u001b[39m'\u001b[39m)\n",
      "\u001b[1;31mAttributeError\u001b[0m: 'NoneType' object has no attribute 'find'"
     ]
    }
   ],
   "source": [
    "import requests\n",
    "import re\n",
    "import sys\n",
    "from bs4 import BeautifulSoup\n",
    "\n",
    "\n",
    "headers={\n",
    "        'User-Agent' : 'Mozilla/5.0 (Windows NT 10.0; Win64; x64) AppleWebKit/537.36 (KHTML, like Gecko) Chrome/117.0.0.0 Safari/537.36 Edg/117.0.2045.41'\n",
    "    }\n",
    "\n",
    "proxies = {\n",
    "    \"http\": \"http://127.0.0.1:7890\",\n",
    "    \"https\": \"http://127.0.0.1:7890\",\n",
    "}\n",
    "\n",
    "title = 'Mining Spatio-Temporal Relations via Self-Paced Graph Contrastive Learning'\n",
    "\n",
    "word_list = re.split('\\s',title)\n",
    "\n",
    "q = ''\n",
    "\n",
    "for i in range(len(word_list)):\n",
    "    if(i==0):\n",
    "        q += word_list[i]\n",
    "    else:\n",
    "        q += '+' + word_list[i]\n",
    "\n",
    "url = 'https://scholar.google.com/scholar?q=' + q\n",
    "\n",
    "res = requests.get(url = url, proxies = proxies, verify= False, headers= headers)\n",
    "\n",
    "\n",
    "soup = BeautifulSoup(res.text,'html.parser')\n",
    "url_item = soup.find('div',class_=\"gs_or_ggsm\")\n",
    "a_item = url_item.find('a')\n",
    "\n",
    "a_item.get('href')\n"
   ]
  },
  {
   "cell_type": "code",
   "execution_count": 103,
   "metadata": {},
   "outputs": [
    {
     "ename": "TypeError",
     "evalue": "expected string or bytes-like object",
     "output_type": "error",
     "traceback": [
      "\u001b[1;31m---------------------------------------------------------------------------\u001b[0m",
      "\u001b[1;31mTypeError\u001b[0m                                 Traceback (most recent call last)",
      "\u001b[1;32md:\\project\\thesis_download\\test.ipynb 单元格 2\u001b[0m line \u001b[0;36m2\n\u001b[0;32m      <a href='vscode-notebook-cell:/d%3A/project/thesis_download/test.ipynb#W5sZmlsZQ%3D%3D?line=0'>1</a>\u001b[0m text \u001b[39m=\u001b[39m \u001b[39m'\u001b[39m\u001b[39m<div class=\u001b[39m\u001b[39m\"\u001b[39m\u001b[39mgs_or_ggsm\u001b[39m\u001b[39m\"\u001b[39m\u001b[39m ontouchstart=\u001b[39m\u001b[39m\"\u001b[39m\u001b[39mgs_evt_dsp(event)\u001b[39m\u001b[39m\"\u001b[39m\u001b[39m tabindex=\u001b[39m\u001b[39m\"\u001b[39m\u001b[39m-1\u001b[39m\u001b[39m\"\u001b[39m\u001b[39m><a data-clk=\u001b[39m\u001b[39m\"\u001b[39m\u001b[39mhl=en&amp;sa=T&amp;oi=gga&amp;ct=gga&amp;cd=0&amp;d=4115810560928221551&amp;ei=cewUZePWDp2h6rQPweSL0A0\u001b[39m\u001b[39m\"\u001b[39m\u001b[39m data-clk-atid=\u001b[39m\u001b[39m\"\u001b[39m\u001b[39mb4ntDuZLHjkJ\u001b[39m\u001b[39m\"\u001b[39m\u001b[39m href=\u001b[39m\u001b[39m\"\u001b[39m\u001b[39mhttps://dl.acm.org/doi/pdf/10.1145/3534678.3539422\u001b[39m\u001b[39m\"\u001b[39m\u001b[39m><span class=\u001b[39m\u001b[39m\"\u001b[39m\u001b[39mgs_ctg2\u001b[39m\u001b[39m\"\u001b[39m\u001b[39m>[PDF]</span> acm.org</a></div>\u001b[39m\u001b[39m'\u001b[39m\n\u001b[1;32m----> <a href='vscode-notebook-cell:/d%3A/project/thesis_download/test.ipynb#W5sZmlsZQ%3D%3D?line=1'>2</a>\u001b[0m re\u001b[39m.\u001b[39;49mfindall(\u001b[39m'\u001b[39;49m\u001b[39mhref=\u001b[39;49m\u001b[39m\"\u001b[39;49m\u001b[39m[^<>]*\u001b[39;49m\u001b[39m\"\u001b[39;49m\u001b[39m'\u001b[39;49m,url_item)\n",
      "File \u001b[1;32md:\\enviroment\\conda\\envs\\thesis_download\\lib\\re.py:240\u001b[0m, in \u001b[0;36mfindall\u001b[1;34m(pattern, string, flags)\u001b[0m\n\u001b[0;32m    232\u001b[0m \u001b[39mdef\u001b[39;00m \u001b[39mfindall\u001b[39m(pattern, string, flags\u001b[39m=\u001b[39m\u001b[39m0\u001b[39m):\n\u001b[0;32m    233\u001b[0m \u001b[39m    \u001b[39m\u001b[39m\"\"\"Return a list of all non-overlapping matches in the string.\u001b[39;00m\n\u001b[0;32m    234\u001b[0m \n\u001b[0;32m    235\u001b[0m \u001b[39m    If one or more capturing groups are present in the pattern, return\u001b[39;00m\n\u001b[1;32m   (...)\u001b[0m\n\u001b[0;32m    238\u001b[0m \n\u001b[0;32m    239\u001b[0m \u001b[39m    Empty matches are included in the result.\"\"\"\u001b[39;00m\n\u001b[1;32m--> 240\u001b[0m     \u001b[39mreturn\u001b[39;00m _compile(pattern, flags)\u001b[39m.\u001b[39;49mfindall(string)\n",
      "\u001b[1;31mTypeError\u001b[0m: expected string or bytes-like object"
     ]
    }
   ],
   "source": [
    "a_item.get('href')\n"
   ]
  }
 ],
 "metadata": {
  "kernelspec": {
   "display_name": "thesis_download",
   "language": "python",
   "name": "python3"
  },
  "language_info": {
   "codemirror_mode": {
    "name": "ipython",
    "version": 3
   },
   "file_extension": ".py",
   "mimetype": "text/x-python",
   "name": "python",
   "nbconvert_exporter": "python",
   "pygments_lexer": "ipython3",
   "version": "3.10.0"
  },
  "orig_nbformat": 4
 },
 "nbformat": 4,
 "nbformat_minor": 2
}
